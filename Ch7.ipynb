{
 "cells": [
  {
   "cell_type": "code",
   "execution_count": 1,
   "metadata": {},
   "outputs": [],
   "source": [
    "import torch\n",
    "import torch.nn as nn\n",
    "import torch.nn.functional as F\n",
    "import torch.optim as optim\n",
    "\n",
    "import numpy as np\n",
    "import matplotlib.pyplot as plt"
   ]
  },
  {
   "cell_type": "code",
   "execution_count": 3,
   "metadata": {},
   "outputs": [],
   "source": [
    "# Model 클래스\n",
    "class Model(nn.Module):\n",
    "    def __init__(self): # 이 신경망은 길이 1인 벡터를 인풋으로 받아 값 하나를 리턴하는 함수, y = f(x_1)\n",
    "        super(Model, self).__init__()\n",
    "        self.fc1 = nn.Linear(1, 128) # 1*128개의 w 필요\n",
    "        self.fc2 = nn.Linear(128, 128) # 128*128개의 w 필요\n",
    "        self.fc3 = nn.Linear(128, 128) # 128*128개의 w 필요\n",
    "        self.fc4 = nn.Linear(128, 1, bias = False) # 128*1개의 w 필요\n",
    "\n",
    "    def forward(self, x):\n",
    "        x = F.relu(self.fc1(x))\n",
    "        x = F.relu(self.fc2(x))\n",
    "        x = F.relu(self.fc3(x))\n",
    "        x = self.fc4(x)\n",
    "        return x\n",
    "    \n",
    "    # 데이터 생성 함수 F(x)\n",
    "    def true_fun(X):\n",
    "        noise = np.random.rand(X.shape[0]) * 0.4 - 0.2\n",
    "        return np.cos(1.5 * np.pi * X) + X + noise\n",
    "    \n",
    "    # plotting 함수\n",
    "    def plot_results(model):\n",
    "        x = np.linspace(0, 5, 100)\n",
    "        input_x = torch.from_numpy(x).float().unsqueeze(1)\n",
    "        plt.plot(x, true_fun(x), label = 'Truth')\n",
    "        plt.plot(x, model(input_x).detach().numpy(), label = 'Prediction')\n",
    "        plt.legend(loc = 'lower right', fontsize = 15)\n",
    "        plt.xlim((0, 5))\n",
    "        plt.ylim((-1, 5))\n",
    "        plt.grid()\n",
    "        plt.show()\n"
   ]
  },
  {
   "cell_type": "code",
   "execution_count": null,
   "metadata": {},
   "outputs": [],
   "source": [
    "def main()\n",
    "    data_x = np.random.rand(10000) * 5\n",
    "    # 0~5 사이의 숫자 1만개를 샘플링하여 인풋으로 사용\n",
    "    model = Model()\n",
    "    optimizer = optim.Adam(model.parameters(), lr = 0.001)\n",
    "\n",
    "    for step in range(10000):\n",
    "        batch_x = np.random.choice(data_x, 32)\n",
    "        # 랜덤하게 뽑힌 32개의 데이터로 mini-batch를 구성\n",
    "        batch_x_tensor = "
   ]
  }
 ],
 "metadata": {
  "kernelspec": {
   "display_name": "Python 3",
   "language": "python",
   "name": "python3"
  },
  "language_info": {
   "codemirror_mode": {
    "name": "ipython",
    "version": 3
   },
   "file_extension": ".py",
   "mimetype": "text/x-python",
   "name": "python",
   "nbconvert_exporter": "python",
   "pygments_lexer": "ipython3",
   "version": "3.10.12"
  }
 },
 "nbformat": 4,
 "nbformat_minor": 2
}
