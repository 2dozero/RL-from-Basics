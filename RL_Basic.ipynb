{
 "cells": [
  {
   "cell_type": "code",
   "execution_count": 2,
   "metadata": {},
   "outputs": [],
   "source": [
    "import random"
   ]
  },
  {
   "cell_type": "code",
   "execution_count": 3,
   "metadata": {},
   "outputs": [],
   "source": [
    "class GridWorld():\n",
    "    def __init__(self):\n",
    "        self.x = 0\n",
    "        self.y = 0\n",
    "\n",
    "    def step(self, a):\n",
    "        if a == 0:\n",
    "            self.move_right()\n",
    "        elif a == 1:\n",
    "            self.move_left()\n",
    "        elif a == 2:\n",
    "            self.move_up()\n",
    "        elif a == 3:\n",
    "            self.move_down()\n",
    "\n",
    "        reward = -1\n",
    "        done = self.is_done()\n",
    "        return (self.x, self.y), reward, done\n",
    "    \n",
    "    def move_right(self):\n",
    "        self.x += 1\n",
    "        if self.x > 3:\n",
    "            self.x = 3\n",
    "\n",
    "    def move_left(self):\n",
    "        self.x -= 1\n",
    "        if self.x < 0:\n",
    "            self.x = 0\n",
    "\n",
    "    def move_up(self):\n",
    "        self.y += 1\n",
    "        if self.y > 3:\n",
    "            self.y = 3\n",
    "\n",
    "    def move_down(self):\n",
    "        self.y -= 1\n",
    "        if self.y < 0:\n",
    "            self.y = 0\n",
    "\n",
    "    def is_done(self):\n",
    "        if self.x == 3 and self.y == 3:\n",
    "            return True\n",
    "        else:\n",
    "            return False\n",
    "        \n",
    "    def get_state(self):\n",
    "        return (self.x, self.y)\n",
    "    \n",
    "    def reset(self):\n",
    "        self.x = 0\n",
    "        self.y = 0\n",
    "        return (self.x, self.y)"
   ]
  },
  {
   "cell_type": "code",
   "execution_count": 4,
   "metadata": {},
   "outputs": [],
   "source": [
    "class Agent():\n",
    "    def __init__(self):\n",
    "        pass\n",
    "\n",
    "    def select_action(self):\n",
    "        coin = random.random()\n",
    "        if coin < 0.25:\n",
    "            action = 0\n",
    "        \n",
    "        elif coin < 0.5:\n",
    "            action = 1\n",
    "\n",
    "        elif coin < 0.75:\n",
    "            action = 2\n",
    "\n",
    "        else :\n",
    "            action = 3\n",
    "\n",
    "        return action\n"
   ]
  },
  {
   "cell_type": "code",
   "execution_count": 13,
   "metadata": {},
   "outputs": [
    {
     "name": "stdout",
     "output_type": "stream",
     "text": [
      "[-59.19085869789623, -57.10833735501974, -54.48519864236638, -50.536779083988776]\n",
      "[-57.5086297439131, -54.64953376907053, -49.83374202735578, -43.817195527221294]\n",
      "[-54.43169140406178, -49.69364755042712, -40.53483040840612, -28.8779590366649]\n",
      "[-52.9581396582514, -45.62633707931175, -30.16962590305962, 0.0]\n"
     ]
    }
   ],
   "source": [
    "def main():\n",
    "    env = GridWorld()\n",
    "    agent = Agent()\n",
    "    data = [[0, 0, 0, 0], [0, 0, 0, 0], \n",
    "            [0, 0, 0, 0], [0, 0, 0, 0]]\n",
    "    gamma = 1.0\n",
    "    alpha = 0.0001\n",
    "\n",
    "    for k in range(50000):\n",
    "        done = False\n",
    "        history = []\n",
    "        while not done:\n",
    "            action = agent.select_action()\n",
    "            (x, y), reward, done = env.step(action)\n",
    "            history.append((x, y, reward))\n",
    "            # print(\"history : \",history)\n",
    "        env.reset()\n",
    "    # history = [(0, 0, -1), (0, 1, -1), (0, 2, -1), (0, 3, -1), (1, 3, -1), (2, 3, -1), (3, 3, -1)]\n",
    "        cum_reward = 0\n",
    "        for transition in history[::-1]:\n",
    "            # print(\"transition : \", transition)\n",
    "            x, y, reward = transition\n",
    "            data[x][y] = data[x][y] + alpha*(cum_reward - data[x][y])\n",
    "            cum_reward = reward + gamma*cum_reward\n",
    "            \n",
    "    for row in data:\n",
    "        print(row)\n",
    "\n",
    "if __name__ == \"__main__\":\n",
    "    main()"
   ]
  },
  {
   "cell_type": "code",
   "execution_count": 14,
   "metadata": {},
   "outputs": [
    {
     "name": "stdout",
     "output_type": "stream",
     "text": [
      "[-59.03453155502215, -57.22686978307365, -53.72970003224935, -51.60283070890599]\n",
      "[-57.220894366216434, -54.13412726738232, -49.46579589050204, -44.444546739454935]\n",
      "[-53.925796584274345, -49.873506405170744, -39.84537359120113, -30.16757432598699]\n",
      "[-51.577704267580806, -45.45965609834493, -29.55506406477543, 0]\n"
     ]
    }
   ],
   "source": [
    "def main():\n",
    "    env = GridWorld()\n",
    "    agent = Agent()\n",
    "    data = [[0, 0, 0, 0], [0, 0, 0, 0], \n",
    "            [0, 0, 0, 0], [0, 0, 0, 0]]\n",
    "    gamma = 1.0\n",
    "    alpha = 0.01\n",
    "\n",
    "    for k in range(50000):\n",
    "        done = False\n",
    "        while not done:\n",
    "            x, y = env.get_state()\n",
    "            action = agent.select_action()\n",
    "            (x_prime, y_prime), reward, done = env.step(action)\n",
    "            x_prime, y_prime = env.get_state()\n",
    "\n",
    "            data[x][y] = data[x][y] + alpha*(reward + gamma*data[x_prime][y_prime] - data[x][y])\n",
    "        env.reset()\n",
    "\n",
    "    for row in data:\n",
    "        print(row)\n",
    "    \n",
    "if __name__ == \"__main__\":\n",
    "    main()"
   ]
  },
  {
   "cell_type": "code",
   "execution_count": null,
   "metadata": {},
   "outputs": [],
   "source": []
  }
 ],
 "metadata": {
  "kernelspec": {
   "display_name": "Python 3",
   "language": "python",
   "name": "python3"
  },
  "language_info": {
   "codemirror_mode": {
    "name": "ipython",
    "version": 3
   },
   "file_extension": ".py",
   "mimetype": "text/x-python",
   "name": "python",
   "nbconvert_exporter": "python",
   "pygments_lexer": "ipython3",
   "version": "3.10.12"
  }
 },
 "nbformat": 4,
 "nbformat_minor": 2
}
